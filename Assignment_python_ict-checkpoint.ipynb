{
 "cells": [
  {
   "cell_type": "markdown",
   "id": "f2dbdeb3",
   "metadata": {},
   "source": [
    "# Assignment no:1"
   ]
  },
  {
   "cell_type": "code",
   "execution_count": 1,
   "id": "a9bcc96a",
   "metadata": {},
   "outputs": [
    {
     "name": "stdout",
     "output_type": "stream",
     "text": [
      "Enter the name of student: Anisha\n",
      "Anisha\n",
      "enter the roll no of student21\n",
      "Roll no = 21\n",
      "enter the mark of the student78\n",
      "Mark = 78\n"
     ]
    }
   ],
   "source": [
    "name = input(\"Enter the name of student: \")\n",
    "print(name)\n",
    "rollno=int(input('enter the roll no of student'))\n",
    "print('Roll no =',rollno)\n",
    "mark=int(input('enter the mark of the student'))\n",
    "print('Mark =',mark)"
   ]
  },
  {
   "cell_type": "code",
   "execution_count": 2,
   "id": "48e0ba2e",
   "metadata": {},
   "outputs": [
    {
     "name": "stdout",
     "output_type": "stream",
     "text": [
      "Enter the temperature in Fahrenheit: \n",
      "41\n",
      "\n",
      "Equivalent temperature in Celsius:  5.0\n"
     ]
    }
   ],
   "source": [
    "print(\"Enter the temperature in Fahrenheit: \")\n",
    "f = float(input())\n",
    "c = (f-32)/1.8\n",
    "print(\"\\nEquivalent temperature in Celsius: \", c)"
   ]
  },
  {
   "cell_type": "code",
   "execution_count": 3,
   "id": "0509c67b",
   "metadata": {},
   "outputs": [
    {
     "name": "stdout",
     "output_type": "stream",
     "text": [
      "enter the 1st number5\n",
      "enter the 2nd number2\n",
      "Product= 10\n"
     ]
    }
   ],
   "source": [
    "no_1=int(input('enter the 1st number'))\n",
    "no_2=int(input('enter the 2nd number'))\n",
    "print('Product=',no_1*no_2)"
   ]
  },
  {
   "cell_type": "code",
   "execution_count": 4,
   "id": "a109f98e",
   "metadata": {},
   "outputs": [
    {
     "name": "stdout",
     "output_type": "stream",
     "text": [
      "Enter the string:Learn Python by Developing a Website\n",
      "Learn**Python** by Developing a **Website**\n"
     ]
    }
   ],
   "source": [
    "s = input(\"Enter the string:\")\n",
    "print(\"Learn**Python** by Developing a **Website**\")"
   ]
  },
  {
   "cell_type": "code",
   "execution_count": 2,
   "id": "99ff8a41",
   "metadata": {},
   "outputs": [
    {
     "name": "stdout",
     "output_type": "stream",
     "text": [
      "enter string:Learn Python by Developing a Website\n",
      "Learn **Python** by Developing a **Website**\n"
     ]
    }
   ],
   "source": [
    "x = input(\"enter string:\")\n",
    "word_list = x.split()\n",
    "out = []\n",
    "for word in word_list:\n",
    "    if word == \"Python\":\n",
    "        out.append(\"**Python**\")\n",
    "    elif word == \"Website\":\n",
    "        out.append(\"**Website**\")\n",
    "    else:\n",
    "        out.append(word)\n",
    "print(\" \".join(out))"
   ]
  },
  {
   "cell_type": "code",
   "execution_count": 3,
   "id": "cf751c74",
   "metadata": {},
   "outputs": [
    {
     "name": "stdout",
     "output_type": "stream",
     "text": [
      "enter the radius5\n",
      "area= 78.5 sqcm\n"
     ]
    }
   ],
   "source": [
    "radius=float(input('enter the radius'))\n",
    "print('area=',3.14*radius**2,'sqcm')"
   ]
  },
  {
   "cell_type": "code",
   "execution_count": 18,
   "id": "f2c7cb6d",
   "metadata": {
    "scrolled": true
   },
   "outputs": [
    {
     "name": "stdout",
     "output_type": "stream",
     "text": [
      "Enter the number9\n",
      "Enter the position3\n"
     ]
    },
    {
     "ename": "TypeError",
     "evalue": "'str' object cannot be interpreted as an integer",
     "output_type": "error",
     "traceback": [
      "\u001b[1;31m---------------------------------------------------------------------------\u001b[0m",
      "\u001b[1;31mTypeError\u001b[0m                                 Traceback (most recent call last)",
      "Input \u001b[1;32mIn [18]\u001b[0m, in \u001b[0;36m<cell line: 4>\u001b[1;34m()\u001b[0m\n\u001b[0;32m      2\u001b[0m x\u001b[38;5;241m=\u001b[39m\u001b[38;5;28minput\u001b[39m(\u001b[38;5;124m\"\u001b[39m\u001b[38;5;124mEnter the number\u001b[39m\u001b[38;5;124m\"\u001b[39m)\n\u001b[0;32m      3\u001b[0m y\u001b[38;5;241m=\u001b[39m\u001b[38;5;28minput\u001b[39m(\u001b[38;5;124m\"\u001b[39m\u001b[38;5;124mEnter the position\u001b[39m\u001b[38;5;124m\"\u001b[39m)\n\u001b[1;32m----> 4\u001b[0m \u001b[43mlist1\u001b[49m\u001b[38;5;241;43m.\u001b[39;49m\u001b[43minsert\u001b[49m\u001b[43m(\u001b[49m\u001b[43my\u001b[49m\u001b[43m,\u001b[49m\u001b[43mx\u001b[49m\u001b[43m)\u001b[49m\n",
      "\u001b[1;31mTypeError\u001b[0m: 'str' object cannot be interpreted as an integer"
     ]
    }
   ],
   "source": [
    "list1=[1,2,3,4,5]\n",
    "x=input(\"Enter the number\")\n",
    "y=input(\"Enter the position\")\n",
    "list1.insert(y,x)"
   ]
  },
  {
   "cell_type": "code",
   "execution_count": null,
   "id": "383b44e8",
   "metadata": {},
   "outputs": [],
   "source": []
  },
  {
   "cell_type": "code",
   "execution_count": 6,
   "id": "8a345904",
   "metadata": {},
   "outputs": [
    {
     "name": "stdout",
     "output_type": "stream",
     "text": [
      "{'name': 'Kelly', 'age': 25, 'salary': 8000, 'location': 'New york'}\n"
     ]
    }
   ],
   "source": [
    "sample_dict = {\"name\":\"Kelly\",\"age\": 25,\"salary\": 8000,\"city\": \"New york\"}\n",
    "sample_dict['location'] = sample_dict.pop('city')\n",
    "print(sample_dict)"
   ]
  },
  {
   "cell_type": "code",
   "execution_count": 7,
   "id": "33e053c9",
   "metadata": {},
   "outputs": [
    {
     "name": "stdout",
     "output_type": "stream",
     "text": [
      "{'emp1': {'name': 'John', 'salary': 7500}, 'emp2': {'name': 'Emma', 'salary': 8000}, 'emp3': {'name': 'Brad', 'salary': 8500}}\n"
     ]
    }
   ],
   "source": [
    "sample_dict = {\n",
    "    'emp1': {'name': 'John', 'salary': 7500},\n",
    "    'emp2': {'name': 'Emma', 'salary': 8000},\n",
    "    'emp3': {'name': 'Brad', 'salary': 6500}\n",
    "}\n",
    "\n",
    "sample_dict['emp3']['salary'] = 8500\n",
    "print(sample_dict)"
   ]
  },
  {
   "cell_type": "code",
   "execution_count": 11,
   "id": "0ad822ee",
   "metadata": {},
   "outputs": [
    {
     "name": "stdout",
     "output_type": "stream",
     "text": [
      "(43, 54)\n"
     ]
    }
   ],
   "source": [
    "tuple1 = (10, 20, 43, 54, 56, 68)\n",
    "tuple2 = tuple1[2:-2]\n",
    "print(tuple2)"
   ]
  },
  {
   "cell_type": "code",
   "execution_count": 13,
   "id": "9ae7105a",
   "metadata": {},
   "outputs": [
    {
     "data": {
      "text/plain": [
       "3"
      ]
     },
     "execution_count": 13,
     "metadata": {},
     "output_type": "execute_result"
    }
   ],
   "source": [
    "tuple1 = (50, 10, 60, 70, 50,83,567,50,81)\n",
    "tuple1.count(50)"
   ]
  },
  {
   "cell_type": "code",
   "execution_count": null,
   "id": "c44cb2ff",
   "metadata": {},
   "outputs": [],
   "source": []
  },
  {
   "cell_type": "code",
   "execution_count": null,
   "id": "d516d040",
   "metadata": {},
   "outputs": [],
   "source": []
  },
  {
   "cell_type": "code",
   "execution_count": null,
   "id": "0ee040dd",
   "metadata": {},
   "outputs": [],
   "source": []
  }
 ],
 "metadata": {
  "kernelspec": {
   "display_name": "Python 3 (ipykernel)",
   "language": "python",
   "name": "python3"
  },
  "language_info": {
   "codemirror_mode": {
    "name": "ipython",
    "version": 3
   },
   "file_extension": ".py",
   "mimetype": "text/x-python",
   "name": "python",
   "nbconvert_exporter": "python",
   "pygments_lexer": "ipython3",
   "version": "3.9.12"
  }
 },
 "nbformat": 4,
 "nbformat_minor": 5
}
